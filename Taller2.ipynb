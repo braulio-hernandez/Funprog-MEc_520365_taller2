{
  "nbformat": 4,
  "nbformat_minor": 0,
  "metadata": {
    "colab": {
      "provenance": [],
      "authorship_tag": "ABX9TyMkM9+devyUDh5DOgyM1+pJ",
      "include_colab_link": true
    },
    "kernelspec": {
      "name": "python3",
      "display_name": "Python 3"
    },
    "language_info": {
      "name": "python"
    }
  },
  "cells": [
    {
      "cell_type": "markdown",
      "metadata": {
        "id": "view-in-github",
        "colab_type": "text"
      },
      "source": [
        "<a href=\"https://colab.research.google.com/github/braulio-hernandez/Funprog-MEc_520365_taller2/blob/main/Taller2.ipynb\" target=\"_parent\"><img src=\"https://colab.research.google.com/assets/colab-badge.svg\" alt=\"Open In Colab\"/></a>"
      ]
    },
    {
      "cell_type": "code",
      "execution_count": null,
      "metadata": {
        "id": "YiEX8bivvxmc"
      },
      "outputs": [],
      "source": [
        "## solicon taller 2\n",
        "## Fundamento de programacion - ingenieria Mecanica UPB 202310\n",
        "\n",
        "- Braulio Manuel Hernandez Garcia\n",
        "- 000520365\n",
        "- braulio.hernandez@upb.edu.co\n",
        "\n",
        "\n",
        "\n"
      ]
    },
    {
      "cell_type": "code",
      "source": [
        "# solucion problema 1 \n",
        "\n",
        "\n"
      ],
      "metadata": {
        "id": "iW6qWFy70G89"
      },
      "execution_count": null,
      "outputs": []
    },
    {
      "cell_type": "code",
      "source": [
        "\n",
        "\n",
        "\n",
        "\n",
        "x_1 = t_1 = 3 \n",
        "x_2 = t_2 = 10\n",
        "x_0 = 5\n",
        "v_0 = 4\n",
        "a = -2\n",
        "\n",
        "\n",
        "\n",
        "\n",
        "\n",
        "\n"
      ],
      "metadata": {
        "colab": {
          "base_uri": "https://localhost:8080/",
          "height": 235
        },
        "id": "d1cErre-1Gmy",
        "outputId": "c68814a6-f187-4161-9b1c-7eaf24560fa5"
      },
      "execution_count": 35,
      "outputs": [
        {
          "output_type": "error",
          "ename": "TypeError",
          "evalue": "ignored",
          "traceback": [
            "\u001b[0;31m---------------------------------------------------------------------------\u001b[0m",
            "\u001b[0;31mTypeError\u001b[0m                                 Traceback (most recent call last)",
            "\u001b[0;32m<ipython-input-35-0eba030908af>\u001b[0m in \u001b[0;36m<module>\u001b[0;34m\u001b[0m\n\u001b[1;32m      5\u001b[0m \u001b[0mv_0\u001b[0m \u001b[0;34m=\u001b[0m \u001b[0;36m4\u001b[0m\u001b[0;34m\u001b[0m\u001b[0;34m\u001b[0m\u001b[0m\n\u001b[1;32m      6\u001b[0m \u001b[0ma\u001b[0m \u001b[0;34m=\u001b[0m \u001b[0;34m-\u001b[0m\u001b[0;36m2\u001b[0m\u001b[0;34m\u001b[0m\u001b[0;34m\u001b[0m\u001b[0m\n\u001b[0;32m----> 7\u001b[0;31m \u001b[0mprint\u001b[0m\u001b[0;34m(\u001b[0m\u001b[0;34m)\u001b[0m\u001b[0;34m\u001b[0m\u001b[0;34m\u001b[0m\u001b[0m\n\u001b[0m\u001b[1;32m      8\u001b[0m \u001b[0;34m\u001b[0m\u001b[0m\n\u001b[1;32m      9\u001b[0m \u001b[0;34m\u001b[0m\u001b[0m\n",
            "\u001b[0;31mTypeError\u001b[0m: 'int' object is not callable"
          ]
        }
      ]
    },
    {
      "cell_type": "markdown",
      "source": [
        "##solucion de problema 2\n"
      ],
      "metadata": {
        "id": "oZucn06-_c_h"
      }
    },
    {
      "cell_type": "code",
      "source": [],
      "metadata": {
        "id": "hEteeTky_nUd"
      },
      "execution_count": null,
      "outputs": []
    },
    {
      "cell_type": "markdown",
      "source": [
        "##solucion de problema 3"
      ],
      "metadata": {
        "id": "jh8es9qX_zUi"
      }
    },
    {
      "cell_type": "code",
      "source": [
        "A = -3 \n",
        "B > C\n",
        "A != C and D > A \n",
        "B < C or B > A \n",
        "A != D\n",
        "print = A - D > C  \n",
        "print= D + C > = A * B\n",
        "print= A * C == 10 or B * A < 3 \n",
        "print= B * C + D > D * 5 \n",
        "print= 2 * A == - d * 4 \n",
        "print( A * B )\n",
        "print(C * D)\n",
        "\n"
      ],
      "metadata": {
        "colab": {
          "base_uri": "https://localhost:8080/",
          "height": 130
        },
        "id": "84YVPubj_3FT",
        "outputId": "02d6e899-ed13-45d0-cb94-fcbb0ba15478"
      },
      "execution_count": 38,
      "outputs": [
        {
          "output_type": "error",
          "ename": "SyntaxError",
          "evalue": "ignored",
          "traceback": [
            "\u001b[0;36m  File \u001b[0;32m\"<ipython-input-38-eaebe09effa5>\"\u001b[0;36m, line \u001b[0;32m7\u001b[0m\n\u001b[0;31m    print= D + C > = A * B\u001b[0m\n\u001b[0m                   ^\u001b[0m\n\u001b[0;31mSyntaxError\u001b[0m\u001b[0;31m:\u001b[0m invalid syntax\n"
          ]
        }
      ]
    },
    {
      "cell_type": "code",
      "source": [],
      "metadata": {
        "id": "2xhyT9rc046z"
      },
      "execution_count": null,
      "outputs": []
    },
    {
      "cell_type": "markdown",
      "source": [],
      "metadata": {
        "id": "sRcvXvfJ0yVS"
      }
    },
    {
      "cell_type": "code",
      "source": [],
      "metadata": {
        "colab": {
          "base_uri": "https://localhost:8080/"
        },
        "id": "f6sEAnQLxEg0",
        "outputId": "26bba8bf-6a13-420f-a599-26187b39565f"
      },
      "execution_count": 2,
      "outputs": [
        {
          "output_type": "stream",
          "name": "stdout",
          "text": [
            "3\n"
          ]
        }
      ]
    },
    {
      "cell_type": "markdown",
      "source": [],
      "metadata": {
        "id": "6_eW4BR-wASz"
      }
    },
    {
      "cell_type": "markdown",
      "source": [],
      "metadata": {
        "id": "WKbhi5cZv4bA"
      }
    }
  ]
}